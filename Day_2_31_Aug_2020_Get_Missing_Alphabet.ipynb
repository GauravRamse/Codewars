{
 "cells": [
  {
   "cell_type": "markdown",
   "metadata": {},
   "source": [
    "#### 1) For s='abcdefghijklmnopqrstuvwxy'\n",
    "\n",
    "#### The result should be 'z'\n",
    "\n",
    "#### 2)For s='aabbccddeeffgghhiijjkkllmmnnooppqqrrssttuuvvwwxxyy'\n",
    "\n",
    "#### The result should be 'zz'\n",
    "\n",
    "#### 3) For s='abbccddeeffgghhiijjkkllmmnnooppqqrrssttuuvvwwxxy'\n",
    "\n",
    "#### The result should be 'ayzz'\n",
    "\n"
   ]
  },
  {
   "cell_type": "code",
   "execution_count": 1,
   "metadata": {},
   "outputs": [],
   "source": [
    "string_ = 'abbccddeeffgghhiijjkkllmmnnooppqqrrssttuuvvwwxxy'\n",
    "import string"
   ]
  },
  {
   "cell_type": "code",
   "execution_count": 2,
   "metadata": {},
   "outputs": [],
   "source": [
    "list_string_ = list(string_)\n",
    "letter_count = []\n",
    "for i in string_ :\n",
    "    letter_count.append(list_string_.count(i)) \n",
    "max_repetation = max(letter_count)"
   ]
  },
  {
   "cell_type": "code",
   "execution_count": 3,
   "metadata": {},
   "outputs": [],
   "source": [
    "return_string = ''\n",
    "for i in list(string.ascii_lowercase):\n",
    "    if i in string_ and list_string_.count(i) == max_repetation:\n",
    "        pass\n",
    "    else:\n",
    "        for add in range (0, max_repetation - list_string_.count(i) ):\n",
    "            return_string = return_string + i"
   ]
  },
  {
   "cell_type": "code",
   "execution_count": 4,
   "metadata": {},
   "outputs": [
    {
     "data": {
      "text/plain": [
       "'ayzz'"
      ]
     },
     "execution_count": 4,
     "metadata": {},
     "output_type": "execute_result"
    }
   ],
   "source": [
    "return_string "
   ]
  }
 ],
 "metadata": {
  "kernelspec": {
   "display_name": "Python 3",
   "language": "python",
   "name": "python3"
  },
  "language_info": {
   "codemirror_mode": {
    "name": "ipython",
    "version": 3
   },
   "file_extension": ".py",
   "mimetype": "text/x-python",
   "name": "python",
   "nbconvert_exporter": "python",
   "pygments_lexer": "ipython3",
   "version": "3.7.4"
  }
 },
 "nbformat": 4,
 "nbformat_minor": 4
}

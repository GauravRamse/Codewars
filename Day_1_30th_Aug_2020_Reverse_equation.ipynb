{
 "cells": [
  {
   "cell_type": "code",
   "execution_count": 89,
   "metadata": {},
   "outputs": [],
   "source": [
    "import re\n",
    "input_equation = 'a+b-c/d*30'\n",
    "z = re.split('[+*-/]', input_equation) # Regular equation to split along mathematical sign"
   ]
  },
  {
   "cell_type": "code",
   "execution_count": 90,
   "metadata": {},
   "outputs": [],
   "source": [
    "x = 0 \n",
    "reverse_equation = ''\n",
    "for i in range(len(z)):\n",
    "    y = len(z[-1*(i+1)])\n",
    "    x = y + x +1 \n",
    "    if i != len(z)-1:\n",
    "        res = z[-1 * (i+1)] + input_equation[(x)*-1]\n",
    "    else:\n",
    "        res = z[-1 * (i+1)] \n",
    "    reverse_equation = reverse_equation + res"
   ]
  },
  {
   "cell_type": "code",
   "execution_count": 91,
   "metadata": {},
   "outputs": [
    {
     "data": {
      "text/plain": [
       "'30*d/c-b+a'"
      ]
     },
     "execution_count": 91,
     "metadata": {},
     "output_type": "execute_result"
    }
   ],
   "source": [
    "reverse_equation"
   ]
  }
 ],
 "metadata": {
  "kernelspec": {
   "display_name": "Python 3",
   "language": "python",
   "name": "python3"
  },
  "language_info": {
   "codemirror_mode": {
    "name": "ipython",
    "version": 3
   },
   "file_extension": ".py",
   "mimetype": "text/x-python",
   "name": "python",
   "nbconvert_exporter": "python",
   "pygments_lexer": "ipython3",
   "version": "3.7.4"
  }
 },
 "nbformat": 4,
 "nbformat_minor": 4
}

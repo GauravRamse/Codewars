{
 "cells": [
  {
   "cell_type": "markdown",
   "metadata": {},
   "source": [
    "\n",
    "#### Character with longest consecutive repetition"
   ]
  },
  {
   "cell_type": "code",
   "execution_count": 28,
   "metadata": {},
   "outputs": [],
   "source": [
    "def longest_repetition(chars):\n",
    "    l = []\n",
    "    i = 0\n",
    "    if len(chars)> 0:\n",
    "        while i < len(chars):\n",
    "            chara = i \n",
    "            count = 0\n",
    "            for j in chars[i:]:   \n",
    "                if chars[i] == j:\n",
    "                    count = count + 1\n",
    "                else:\n",
    "                    i = i + count\n",
    "                    break\n",
    "            else:\n",
    "                i = i + count\n",
    "            l.append((chars[chara], count))\n",
    "        return max(l,key = lambda k : k[1])\n",
    "    else:\n",
    "        return ('',0)"
   ]
  },
  {
   "cell_type": "code",
   "execution_count": 29,
   "metadata": {},
   "outputs": [
    {
     "data": {
      "text/plain": [
       "('a', 2)"
      ]
     },
     "execution_count": 29,
     "metadata": {},
     "output_type": "execute_result"
    }
   ],
   "source": [
    "chars = 'aabb'\n",
    "longest_repetition(chars)"
   ]
  },
  {
   "cell_type": "code",
   "execution_count": 30,
   "metadata": {},
   "outputs": [
    {
     "data": {
      "text/plain": [
       "('b', 5)"
      ]
     },
     "execution_count": 30,
     "metadata": {},
     "output_type": "execute_result"
    }
   ],
   "source": [
    "chars = 'aabbbbbffff'\n",
    "longest_repetition(chars)"
   ]
  },
  {
   "cell_type": "code",
   "execution_count": null,
   "metadata": {},
   "outputs": [],
   "source": []
  }
 ],
 "metadata": {
  "kernelspec": {
   "display_name": "Python 3",
   "language": "python",
   "name": "python3"
  },
  "language_info": {
   "codemirror_mode": {
    "name": "ipython",
    "version": 3
   },
   "file_extension": ".py",
   "mimetype": "text/x-python",
   "name": "python",
   "nbconvert_exporter": "python",
   "pygments_lexer": "ipython3",
   "version": "3.7.4"
  }
 },
 "nbformat": 4,
 "nbformat_minor": 4
}

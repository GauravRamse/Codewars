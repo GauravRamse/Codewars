{
 "cells": [
  {
   "cell_type": "code",
   "execution_count": 3,
   "metadata": {},
   "outputs": [],
   "source": [
    "'gOOd MOrniNg', 7864 ---- >   'GooD MorNIng'\n",
    "1) Covert given no  7864 into binary, Assign each letter with corresponding binary value.\n",
    "2) If string length i sgreater than len of binary value then repeat.\n",
    "3) Whenever 1 to corresponding letter change the case elif 0 do nothing."
   ]
  },
  {
   "cell_type": "code",
   "execution_count": 1,
   "metadata": {},
   "outputs": [],
   "source": [
    "str_ = 'gOOd MOrniNg' \n",
    "bin_ =list(bin(7864))[2:]  #Convert into binary\n",
    "final_string = ''"
   ]
  },
  {
   "cell_type": "code",
   "execution_count": 2,
   "metadata": {},
   "outputs": [],
   "source": [
    "z = 0\n",
    "for i in str_:\n",
    "    if i.isalpha():\n",
    "        if bin_[z] == '1':\n",
    "            if i.islower():\n",
    "                final_string = final_string + i.upper()\n",
    "            else:\n",
    "                final_string = final_string + i.lower()\n",
    "        elif bin_[z] == '0':\n",
    "            final_string = final_string + i\n",
    "        z = z +1 \n",
    "    else:\n",
    "        final_string = final_string + i\n",
    "    \n",
    "    if len(bin_) == z :\n",
    "        z = 0"
   ]
  },
  {
   "cell_type": "code",
   "execution_count": 3,
   "metadata": {},
   "outputs": [
    {
     "data": {
      "text/plain": [
       "'GooD MorNIng'"
      ]
     },
     "execution_count": 3,
     "metadata": {},
     "output_type": "execute_result"
    }
   ],
   "source": [
    "final_string"
   ]
  },
  {
   "cell_type": "code",
   "execution_count": 7,
   "metadata": {},
   "outputs": [
    {
     "data": {
      "text/plain": [
       "['1', '1', '1', '1', '0', '1', '0', '1', '1', '1', '0', '0', '0']"
      ]
     },
     "execution_count": 7,
     "metadata": {},
     "output_type": "execute_result"
    }
   ],
   "source": [
    "bin_"
   ]
  },
  {
   "cell_type": "code",
   "execution_count": null,
   "metadata": {},
   "outputs": [],
   "source": []
  }
 ],
 "metadata": {
  "kernelspec": {
   "display_name": "Python 3",
   "language": "python",
   "name": "python3"
  },
  "language_info": {
   "codemirror_mode": {
    "name": "ipython",
    "version": 3
   },
   "file_extension": ".py",
   "mimetype": "text/x-python",
   "name": "python",
   "nbconvert_exporter": "python",
   "pygments_lexer": "ipython3",
   "version": "3.7.4"
  }
 },
 "nbformat": 4,
 "nbformat_minor": 4
}
